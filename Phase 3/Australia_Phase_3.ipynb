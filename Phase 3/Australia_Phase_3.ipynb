{
 "cells": [
  {
   "cell_type": "markdown",
   "metadata": {},
   "source": [
    "# Potato Project Phase 3\n",
    "#### Thi Nguyen, 862051496\n",
    "#### Sydney Pun 862053259\n",
    "#### Heng Tan 862155921"
   ]
  },
  {
   "cell_type": "markdown",
   "metadata": {},
   "source": [
    "## Loading the Datasets:"
   ]
  },
  {
   "cell_type": "markdown",
   "metadata": {},
   "source": [
    "We will first load the Forest Fires in Australia (fire_archive_M6_96619) dataset."
   ]
  },
  {
   "cell_type": "code",
   "execution_count": null,
   "metadata": {},
   "outputs": [],
   "source": [
    "#import nbimporter\n",
    "#import Australian_Dataset_Analysis.ipynb",
    "\n",
    "%run Australian_Dataset_Analysis.ipynb\n"
   ]
  },
  {
   "cell_type": "markdown",
   "metadata": {},
   "source": [
    "* *Output for this cell cleared to save space.*"
   ]
  },
  {
   "cell_type": "code",
   "execution_count": 8,
   "metadata": {},
   "outputs": [
    {
     "data": {
      "text/html": [
       "<div>\n",
       "<style scoped>\n",
       "    .dataframe tbody tr th:only-of-type {\n",
       "        vertical-align: middle;\n",
       "    }\n",
       "\n",
       "    .dataframe tbody tr th {\n",
       "        vertical-align: top;\n",
       "    }\n",
       "\n",
       "    .dataframe thead th {\n",
       "        text-align: right;\n",
       "    }\n",
       "</style>\n",
       "<table border=\"1\" class=\"dataframe\">\n",
       "  <thead>\n",
       "    <tr style=\"text-align: right;\">\n",
       "      <th></th>\n",
       "      <th>latitude</th>\n",
       "      <th>longitude</th>\n",
       "      <th>brightness</th>\n",
       "      <th>scan</th>\n",
       "      <th>track</th>\n",
       "      <th>acq_time</th>\n",
       "      <th>confidence</th>\n",
       "      <th>version</th>\n",
       "      <th>bright_t31</th>\n",
       "      <th>frp</th>\n",
       "      <th>type</th>\n",
       "    </tr>\n",
       "  </thead>\n",
       "  <tbody>\n",
       "    <tr>\n",
       "      <th>count</th>\n",
       "      <td>36011.000000</td>\n",
       "      <td>36011.000000</td>\n",
       "      <td>36011.000000</td>\n",
       "      <td>36011.000000</td>\n",
       "      <td>36011.000000</td>\n",
       "      <td>36011.000000</td>\n",
       "      <td>36011.000000</td>\n",
       "      <td>36011.0</td>\n",
       "      <td>36011.000000</td>\n",
       "      <td>36011.000000</td>\n",
       "      <td>36011.000000</td>\n",
       "    </tr>\n",
       "    <tr>\n",
       "      <th>mean</th>\n",
       "      <td>-19.100962</td>\n",
       "      <td>138.931446</td>\n",
       "      <td>328.750696</td>\n",
       "      <td>1.620905</td>\n",
       "      <td>1.215281</td>\n",
       "      <td>600.025798</td>\n",
       "      <td>67.551387</td>\n",
       "      <td>6.3</td>\n",
       "      <td>301.339138</td>\n",
       "      <td>51.132176</td>\n",
       "      <td>0.019439</td>\n",
       "    </tr>\n",
       "    <tr>\n",
       "      <th>...</th>\n",
       "      <td>...</td>\n",
       "      <td>...</td>\n",
       "      <td>...</td>\n",
       "      <td>...</td>\n",
       "      <td>...</td>\n",
       "      <td>...</td>\n",
       "      <td>...</td>\n",
       "      <td>...</td>\n",
       "      <td>...</td>\n",
       "      <td>...</td>\n",
       "      <td>...</td>\n",
       "    </tr>\n",
       "    <tr>\n",
       "      <th>75%</th>\n",
       "      <td>-13.343600</td>\n",
       "      <td>147.477500</td>\n",
       "      <td>336.700000</td>\n",
       "      <td>1.900000</td>\n",
       "      <td>1.300000</td>\n",
       "      <td>600.000000</td>\n",
       "      <td>86.000000</td>\n",
       "      <td>6.3</td>\n",
       "      <td>308.600000</td>\n",
       "      <td>52.800000</td>\n",
       "      <td>0.000000</td>\n",
       "    </tr>\n",
       "    <tr>\n",
       "      <th>max</th>\n",
       "      <td>-10.072600</td>\n",
       "      <td>153.490400</td>\n",
       "      <td>504.400000</td>\n",
       "      <td>4.800000</td>\n",
       "      <td>2.000000</td>\n",
       "      <td>2359.000000</td>\n",
       "      <td>100.000000</td>\n",
       "      <td>6.3</td>\n",
       "      <td>400.100000</td>\n",
       "      <td>3679.500000</td>\n",
       "      <td>3.000000</td>\n",
       "    </tr>\n",
       "  </tbody>\n",
       "</table>\n",
       "<p>8 rows × 11 columns</p>\n",
       "</div>"
      ],
      "text/plain": [
       "           latitude     longitude    brightness          scan         track  \\\n",
       "count  36011.000000  36011.000000  36011.000000  36011.000000  36011.000000   \n",
       "mean     -19.100962    138.931446    328.750696      1.620905      1.215281   \n",
       "...             ...           ...           ...           ...           ...   \n",
       "75%      -13.343600    147.477500    336.700000      1.900000      1.300000   \n",
       "max      -10.072600    153.490400    504.400000      4.800000      2.000000   \n",
       "\n",
       "           acq_time    confidence  version    bright_t31           frp  \\\n",
       "count  36011.000000  36011.000000  36011.0  36011.000000  36011.000000   \n",
       "mean     600.025798     67.551387      6.3    301.339138     51.132176   \n",
       "...             ...           ...      ...           ...           ...   \n",
       "75%      600.000000     86.000000      6.3    308.600000     52.800000   \n",
       "max     2359.000000    100.000000      6.3    400.100000   3679.500000   \n",
       "\n",
       "               type  \n",
       "count  36011.000000  \n",
       "mean       0.019439  \n",
       "...             ...  \n",
       "75%        0.000000  \n",
       "max        3.000000  \n",
       "\n",
       "[8 rows x 11 columns]"
      ]
     },
     "execution_count": 8,
     "metadata": {},
     "output_type": "execute_result"
    }
   ],
   "source": [
    "Aus_Fires_df.describe()"
   ]
  },
  {
   "cell_type": "code",
   "execution_count": 9,
   "metadata": {},
   "outputs": [
    {
     "data": {
      "text/html": [
       "<div>\n",
       "<style scoped>\n",
       "    .dataframe tbody tr th:only-of-type {\n",
       "        vertical-align: middle;\n",
       "    }\n",
       "\n",
       "    .dataframe tbody tr th {\n",
       "        vertical-align: top;\n",
       "    }\n",
       "\n",
       "    .dataframe thead th {\n",
       "        text-align: right;\n",
       "    }\n",
       "</style>\n",
       "<table border=\"1\" class=\"dataframe\">\n",
       "  <thead>\n",
       "    <tr style=\"text-align: right;\">\n",
       "      <th></th>\n",
       "      <th>Total Acres</th>\n",
       "    </tr>\n",
       "  </thead>\n",
       "  <tbody>\n",
       "    <tr>\n",
       "      <th>count</th>\n",
       "      <td>1.790000e+02</td>\n",
       "    </tr>\n",
       "    <tr>\n",
       "      <th>mean</th>\n",
       "      <td>2.254127e+05</td>\n",
       "    </tr>\n",
       "    <tr>\n",
       "      <th>...</th>\n",
       "      <td>...</td>\n",
       "    </tr>\n",
       "    <tr>\n",
       "      <th>75%</th>\n",
       "      <td>2.719965e+05</td>\n",
       "    </tr>\n",
       "    <tr>\n",
       "      <th>max</th>\n",
       "      <td>1.305592e+06</td>\n",
       "    </tr>\n",
       "  </tbody>\n",
       "</table>\n",
       "<p>8 rows × 1 columns</p>\n",
       "</div>"
      ],
      "text/plain": [
       "        Total Acres\n",
       "count  1.790000e+02\n",
       "mean   2.254127e+05\n",
       "...             ...\n",
       "75%    2.719965e+05\n",
       "max    1.305592e+06\n",
       "\n",
       "[8 rows x 1 columns]"
      ]
     },
     "execution_count": 9,
     "metadata": {},
     "output_type": "execute_result"
    }
   ],
   "source": [
    "nifc_df.describe()"
   ]
  },
  {
   "cell_type": "code",
   "execution_count": 10,
   "metadata": {},
   "outputs": [
    {
     "data": {
      "text/html": [
       "<div>\n",
       "<style scoped>\n",
       "    .dataframe tbody tr th:only-of-type {\n",
       "        vertical-align: middle;\n",
       "    }\n",
       "\n",
       "    .dataframe tbody tr th {\n",
       "        vertical-align: top;\n",
       "    }\n",
       "\n",
       "    .dataframe thead th {\n",
       "        text-align: right;\n",
       "    }\n",
       "</style>\n",
       "<table border=\"1\" class=\"dataframe\">\n",
       "  <thead>\n",
       "    <tr style=\"text-align: right;\">\n",
       "      <th></th>\n",
       "      <th>year</th>\n",
       "      <th>number</th>\n",
       "    </tr>\n",
       "  </thead>\n",
       "  <tbody>\n",
       "    <tr>\n",
       "      <th>count</th>\n",
       "      <td>5837.000000</td>\n",
       "      <td>5837.00000</td>\n",
       "    </tr>\n",
       "    <tr>\n",
       "      <th>mean</th>\n",
       "      <td>2007.834847</td>\n",
       "      <td>119.74029</td>\n",
       "    </tr>\n",
       "    <tr>\n",
       "      <th>...</th>\n",
       "      <td>...</td>\n",
       "      <td>...</td>\n",
       "    </tr>\n",
       "    <tr>\n",
       "      <th>75%</th>\n",
       "      <td>2013.000000</td>\n",
       "      <td>131.00000</td>\n",
       "    </tr>\n",
       "    <tr>\n",
       "      <th>max</th>\n",
       "      <td>2017.000000</td>\n",
       "      <td>998.00000</td>\n",
       "    </tr>\n",
       "  </tbody>\n",
       "</table>\n",
       "<p>8 rows × 2 columns</p>\n",
       "</div>"
      ],
      "text/plain": [
       "              year      number\n",
       "count  5837.000000  5837.00000\n",
       "mean   2007.834847   119.74029\n",
       "...            ...         ...\n",
       "75%    2013.000000   131.00000\n",
       "max    2017.000000   998.00000\n",
       "\n",
       "[8 rows x 2 columns]"
      ]
     },
     "execution_count": 10,
     "metadata": {},
     "output_type": "execute_result"
    }
   ],
   "source": [
    "FiresInBrazil.describe()"
   ]
  },
  {
   "cell_type": "markdown",
   "metadata": {},
   "source": [
    "## Setting Up the Model"
   ]
  },
  {
   "cell_type": "code",
   "execution_count": 17,
   "metadata": {},
   "outputs": [
    {
     "data": {
      "text/plain": [
       "<matplotlib.axes._subplots.AxesSubplot at 0x7fea77fca940>"
      ]
     },
     "execution_count": 17,
     "metadata": {},
     "output_type": "execute_result"
    },
    {
     "data": {
      "image/png": "[encoded data removed]",
      "text/plain": [
       "<Figure size 432x288 with 1 Axes>"
      ]
     },
     "metadata": {},
     "output_type": "display_data"
    }
   ],
   "source": [
    "from sklearn.linear_model import LinearRegression\n",
    "\n",
    "Aus_train = Aus_Fires_df.loc[:].copy()\n",
    "Aus_test  = Aus_Fires_df.loc[:].copy()\n",
    "\n",
    "X_train = Aus_train[[\"bright_t31\"]]\n",
    "X_test  = Aus_test[[\"bright_t31\"]]\n",
    "y_train = Aus_train[\"frp\"]\n",
    "\n",
    "Aus_train.plot.scatter(x=\"bright_t31\", y=\"frp\")"
   ]
  },
  {
   "cell_type": "code",
   "execution_count": 30,
   "metadata": {},
   "outputs": [
    {
     "data": {
      "text/html": [
       "<div>\n",
       "<style scoped>\n",
       "    .dataframe tbody tr th:only-of-type {\n",
       "        vertical-align: middle;\n",
       "    }\n",
       "\n",
       "    .dataframe tbody tr th {\n",
       "        vertical-align: top;\n",
       "    }\n",
       "\n",
       "    .dataframe thead th {\n",
       "        text-align: right;\n",
       "    }\n",
       "</style>\n",
       "<table border=\"1\" class=\"dataframe\">\n",
       "  <thead>\n",
       "    <tr style=\"text-align: right;\">\n",
       "      <th></th>\n",
       "      <th>bright_t31</th>\n",
       "    </tr>\n",
       "  </thead>\n",
       "  <tbody>\n",
       "    <tr>\n",
       "      <th>count</th>\n",
       "      <td>36011.000000</td>\n",
       "    </tr>\n",
       "    <tr>\n",
       "      <th>mean</th>\n",
       "      <td>301.339138</td>\n",
       "    </tr>\n",
       "    <tr>\n",
       "      <th>...</th>\n",
       "      <td>...</td>\n",
       "    </tr>\n",
       "    <tr>\n",
       "      <th>75%</th>\n",
       "      <td>308.600000</td>\n",
       "    </tr>\n",
       "    <tr>\n",
       "      <th>max</th>\n",
       "      <td>400.100000</td>\n",
       "    </tr>\n",
       "  </tbody>\n",
       "</table>\n",
       "<p>8 rows × 1 columns</p>\n",
       "</div>"
      ],
      "text/plain": [
       "         bright_t31\n",
       "count  36011.000000\n",
       "mean     301.339138\n",
       "...             ...\n",
       "75%      308.600000\n",
       "max      400.100000\n",
       "\n",
       "[8 rows x 1 columns]"
      ]
     },
     "execution_count": 30,
     "metadata": {},
     "output_type": "execute_result"
    }
   ],
   "source": [
    "X_train.shape\n",
    "X_train.describe()"
   ]
  },
  {
   "cell_type": "code",
   "execution_count": 28,
   "metadata": {},
   "outputs": [
    {
     "data": {
      "text/plain": [
       "count    36011.000000\n",
       "mean        51.132176\n",
       "             ...     \n",
       "75%         52.800000\n",
       "max       3679.500000\n",
       "Name: frp, Length: 8, dtype: float64"
      ]
     },
     "execution_count": 28,
     "metadata": {},
     "output_type": "execute_result"
    }
   ],
   "source": [
    "y_train.shape\n",
    "y_train.describe()"
   ]
  },
  {
   "cell_type": "code",
   "execution_count": 18,
   "metadata": {},
   "outputs": [
    {
     "data": {
      "text/plain": [
       "array([42.82145862, 42.82145862, 45.70202487, ..., 28.62438211,\n",
       "       28.41862738, 29.65315577])"
      ]
     },
     "execution_count": 18,
     "metadata": {},
     "output_type": "execute_result"
    }
   ],
   "source": [
    "model = LinearRegression()\n",
    "model.fit(X=X_train, y=y_train)\n",
    "model.predict(X=X_test)"
   ]
  },
  {
   "cell_type": "code",
   "execution_count": 31,
   "metadata": {},
   "outputs": [
    {
     "data": {
      "text/plain": [
       "array([2.05754732])"
      ]
     },
     "execution_count": 31,
     "metadata": {},
     "output_type": "execute_result"
    }
   ],
   "source": [
    "model.coef_"
   ]
  },
  {
   "cell_type": "code",
   "execution_count": 32,
   "metadata": {},
   "outputs": [
    {
     "data": {
      "text/plain": [
       "-568.8873599165928"
      ]
     },
     "execution_count": 32,
     "metadata": {},
     "output_type": "execute_result"
    }
   ],
   "source": [
    "model.intercept_"
   ]
  },
  {
   "cell_type": "markdown",
   "metadata": {},
   "source": [
    "## Fitting Linear Regression Model"
   ]
  },
  {
   "cell_type": "code",
   "execution_count": 25,
   "metadata": {},
   "outputs": [
    {
     "data": {
      "text/plain": [
       "<matplotlib.axes._subplots.AxesSubplot at 0x7fea772aec88>"
      ]
     },
     "execution_count": 25,
     "metadata": {},
     "output_type": "execute_result"
    },
    {
     "data": {
      "image/png": "[encoded data removed]",
      "text/plain": [
       "<Figure size 432x288 with 1 Axes>"
      ]
     },
     "metadata": {},
     "output_type": "display_data"
    }
   ],
   "source": [
    "X_Aus = pd.DataFrame()\n",
    "# create a sequence of 200 evenly spaced numbers from 10 to 41\n",
    "X_Aus[\"bright_t31\"] = np.linspace(250, 450, num=200)\n",
    "\n",
    "# create a Series out of the predicted values\n",
    "# (trailing underscore indicates fitted values)\n",
    "y_Aus = pd.Series(\n",
    "    model.predict(X_Aus), # y values in Series.plot.line()\n",
    "    index=X_Aus[\"bright_t31\"]    # x values in Series.plot.line()\n",
    ")\n",
    "\n",
    "# plot the data, then the model\n",
    "Aus_train.plot.scatter(x=\"bright_t31\", y=\"frp\")\n",
    "y_Aus.plot.line()"
   ]
  },
  {
   "cell_type": "markdown",
   "metadata": {},
   "source": [
    "## Building Model Using Validation Set:"
   ]
  },
  {
   "cell_type": "code",
   "execution_count": 39,
   "metadata": {},
   "outputs": [
    {
     "data": {
      "text/plain": [
       "array([-0.03854447, -0.0010694 ,  0.01171659,  0.0271413 ,  0.09102278])"
      ]
     },
     "execution_count": 39,
     "metadata": {},
     "output_type": "execute_result"
    }
   ],
   "source": [
    "from sklearn.model_selection import cross_val_score\n",
    "from sklearn.metrics import mean_squared_error\n",
    "from sklearn.preprocessing import StandardScaler\n",
    "from sklearn.linear_model import SGDRegressor\n",
    "from sklearn.pipeline import make_pipeline\n",
    "\n",
    "# pipeline and fit to training set\n",
    "pipeline = make_pipeline(\n",
    "    StandardScaler(),\n",
    "    SGDRegressor()\n",
    ")\n",
    "pipeline.fit(X=X_train, y=y_train)\n",
    "    \n",
    "scores = cross_val_score(pipeline, \n",
    "                         X=X_train,\n",
    "                         y=y_train,\n",
    "                         cv=5)  # cv refers to number of cross-validation cuts\n",
    "scores"
   ]
  },
  {
   "cell_type": "code",
   "execution_count": 42,
   "metadata": {},
   "outputs": [],
   "source": [
    "Y_predict = pipeline.predict(X=X_test)\n",
    "#output = pd.DataFrame(data={\"id\":df_test.index,\"ibu\":Y_predict}) # first need to create df_test \n",
    "output = pd.DataFrame(data={\"id\":Aus_Fires_df.index,\"frp\":Y_predict}) \n",
    "\n",
    "output.to_csv(path_or_buf=\"Aus_results.csv\",index=False,quoting=3,sep=',')"
   ]
  },
  {
   "cell_type": "code",
   "execution_count": null,
   "metadata": {},
   "outputs": [],
   "source": []
  }
 ],
 "metadata": {
  "kernelspec": {
   "display_name": "Python 3",
   "language": "python",
   "name": "python3"
  },
  "language_info": {
   "codemirror_mode": {
    "name": "ipython",
    "version": 3
   },
   "file_extension": ".py",
   "mimetype": "text/x-python",
   "name": "python",
   "nbconvert_exporter": "python",
   "pygments_lexer": "ipython3",
   "version": "3.6.8"
  }
 },
 "nbformat": 4,
 "nbformat_minor": 4
}
