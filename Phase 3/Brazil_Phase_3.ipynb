{
 "cells": [
  {
   "cell_type": "markdown",
   "metadata": {},
   "source": [
    "# Potato Project Phase 3\n",
    "#### Thi Nguyen, 862051496\n",
    "#### Sydney Pun 862053259\n",
    "#### Heng Tan 862155921"
   ]
  },
  {
   "cell_type": "markdown",
   "metadata": {},
   "source": [
    "## Loading the Datasets:"
   ]
  },
  {
   "cell_type": "code",
   "execution_count": 1,
   "metadata": {},
   "outputs": [],
   "source": [
    "import pandas as pd\n",
    "import matplotlib.pyplot as plt\n",
    "import seaborn as sns\n",
    "import numpy as np\n",
    "import numpy.random as nr\n",
    "import math\n",
    "\n",
    "%matplotlib inline"
   ]
  },
  {
   "cell_type": "code",
   "execution_count": 2,
   "metadata": {},
   "outputs": [
    {
     "data": {
      "text/html": [
       "<div>\n",
       "<style scoped>\n",
       "    .dataframe tbody tr th:only-of-type {\n",
       "        vertical-align: middle;\n",
       "    }\n",
       "\n",
       "    .dataframe tbody tr th {\n",
       "        vertical-align: top;\n",
       "    }\n",
       "\n",
       "    .dataframe thead th {\n",
       "        text-align: right;\n",
       "    }\n",
       "</style>\n",
       "<table border=\"1\" class=\"dataframe\">\n",
       "  <thead>\n",
       "    <tr style=\"text-align: right;\">\n",
       "      <th></th>\n",
       "      <th>year</th>\n",
       "      <th>state</th>\n",
       "      <th>month</th>\n",
       "      <th>number</th>\n",
       "      <th>date</th>\n",
       "    </tr>\n",
       "  </thead>\n",
       "  <tbody>\n",
       "    <tr>\n",
       "      <th>0</th>\n",
       "      <td>1998</td>\n",
       "      <td>Acre</td>\n",
       "      <td>Janeiro</td>\n",
       "      <td>0.0</td>\n",
       "      <td>1998-01-01</td>\n",
       "    </tr>\n",
       "    <tr>\n",
       "      <th>1</th>\n",
       "      <td>1999</td>\n",
       "      <td>Acre</td>\n",
       "      <td>Janeiro</td>\n",
       "      <td>0.0</td>\n",
       "      <td>1999-01-01</td>\n",
       "    </tr>\n",
       "    <tr>\n",
       "      <th>2</th>\n",
       "      <td>2000</td>\n",
       "      <td>Acre</td>\n",
       "      <td>Janeiro</td>\n",
       "      <td>0.0</td>\n",
       "      <td>2000-01-01</td>\n",
       "    </tr>\n",
       "    <tr>\n",
       "      <th>3</th>\n",
       "      <td>2001</td>\n",
       "      <td>Acre</td>\n",
       "      <td>Janeiro</td>\n",
       "      <td>0.0</td>\n",
       "      <td>2001-01-01</td>\n",
       "    </tr>\n",
       "    <tr>\n",
       "      <th>4</th>\n",
       "      <td>2002</td>\n",
       "      <td>Acre</td>\n",
       "      <td>Janeiro</td>\n",
       "      <td>0.0</td>\n",
       "      <td>2002-01-01</td>\n",
       "    </tr>\n",
       "  </tbody>\n",
       "</table>\n",
       "</div>"
      ],
      "text/plain": [
       "   year state    month  number        date\n",
       "0  1998  Acre  Janeiro     0.0  1998-01-01\n",
       "1  1999  Acre  Janeiro     0.0  1999-01-01\n",
       "2  2000  Acre  Janeiro     0.0  2000-01-01\n",
       "3  2001  Acre  Janeiro     0.0  2001-01-01\n",
       "4  2002  Acre  Janeiro     0.0  2002-01-01"
      ]
     },
     "execution_count": 2,
     "metadata": {},
     "output_type": "execute_result"
    }
   ],
   "source": [
    "FiresInBrazil = pd.read_csv('ForestFiresInBrazil.csv')\n",
    "FiresInBrazil.head()"
   ]
  },
  {
   "cell_type": "markdown",
   "metadata": {},
   "source": [
    "### Checking for Missing Values"
   ]
  },
  {
   "cell_type": "code",
   "execution_count": 3,
   "metadata": {},
   "outputs": [
    {
     "name": "stdout",
     "output_type": "stream",
     "text": [
      "state 0\n",
      "month 0\n",
      "date 0\n"
     ]
    }
   ],
   "source": [
    "for col in FiresInBrazil.columns:\n",
    "    if FiresInBrazil[col].dtype == object:\n",
    "        count = 0\n",
    "        count = [count + 1 for x in FiresInBrazil[col] if x == '?']\n",
    "        print(col + ' ' + str(sum(count)))"
   ]
  },
  {
   "cell_type": "markdown",
   "metadata": {},
   "source": [
    "### Change months to numbers"
   ]
  },
  {
   "cell_type": "code",
   "execution_count": 4,
   "metadata": {},
   "outputs": [
    {
     "data": {
      "text/plain": [
       "1     541\n",
       "7     540\n",
       "2     540\n",
       "6     540\n",
       "10    540\n",
       "11    540\n",
       "5     540\n",
       "8     540\n",
       "9     540\n",
       "4     540\n",
       "3     540\n",
       "12    513\n",
       "Name: month, dtype: int64"
      ]
     },
     "execution_count": 4,
     "metadata": {},
     "output_type": "execute_result"
    }
   ],
   "source": [
    "FiresInBrazil.month = FiresInBrazil.month.replace('Janeiro', '1')\n",
    "FiresInBrazil.month = FiresInBrazil.month.replace('Fevereiro', '2')\n",
    "FiresInBrazil.month = FiresInBrazil.month.replace('Março', '3')\n",
    "FiresInBrazil.month = FiresInBrazil.month.replace('Abril', '4')\n",
    "FiresInBrazil.month = FiresInBrazil.month.replace('Maio', '5')\n",
    "FiresInBrazil.month = FiresInBrazil.month.replace('Junho', '6')\n",
    "FiresInBrazil.month = FiresInBrazil.month.replace('Julho', '7')\n",
    "FiresInBrazil.month = FiresInBrazil.month.replace('Agosto', '8')\n",
    "FiresInBrazil.month = FiresInBrazil.month.replace('Setembro', '9')\n",
    "FiresInBrazil.month = FiresInBrazil.month.replace('Outubro', '10')\n",
    "FiresInBrazil.month = FiresInBrazil.month.replace('Novembro', '11')\n",
    "FiresInBrazil.month = FiresInBrazil.month.replace('Dezembro', '12')\n",
    "FiresInBrazil.month.value_counts()"
   ]
  },
  {
   "cell_type": "code",
   "execution_count": 9,
   "metadata": {},
   "outputs": [],
   "source": [
    "FiresInBrazil = FiresInBrazil.astype({\"month\": \"int64\"})"
   ]
  },
  {
   "cell_type": "code",
   "execution_count": 10,
   "metadata": {},
   "outputs": [
    {
     "data": {
      "text/plain": [
       "year        int64\n",
       "state      object\n",
       "month       int64\n",
       "number    float64\n",
       "date       object\n",
       "dtype: object"
      ]
     },
     "execution_count": 10,
     "metadata": {},
     "output_type": "execute_result"
    }
   ],
   "source": [
    "FiresInBrazil.dtypes"
   ]
  },
  {
   "cell_type": "markdown",
   "metadata": {},
   "source": [
    "# Setting up model"
   ]
  },
  {
   "cell_type": "code",
   "execution_count": 12,
   "metadata": {},
   "outputs": [
    {
     "data": {
      "text/plain": [
       "<matplotlib.axes._subplots.AxesSubplot at 0x7f5a02b66208>"
      ]
     },
     "execution_count": 12,
     "metadata": {},
     "output_type": "execute_result"
    },
    {
     "data": {
      "image/png": "[encoded data removed]",
      "text/plain": [
       "<Figure size 432x288 with 1 Axes>"
      ]
     },
     "metadata": {
      "needs_background": "light"
     },
     "output_type": "display_data"
    }
   ],
   "source": [
    "from sklearn.linear_model import LinearRegression\n",
    "\n",
    "Bra_train = FiresInBrazil.loc[:].copy()\n",
    "Bra_test  = FiresInBrazil.loc[:].copy()\n",
    "\n",
    "X_train = Bra_train[[\"month\"]]\n",
    "X_test  = Bra_test[[\"month\"]]\n",
    "y_train = Bra_train[\"number\"]\n",
    "\n",
    "Bra_train.plot.scatter(x=\"month\", y=\"number\")"
   ]
  },
  {
   "cell_type": "code",
   "execution_count": 13,
   "metadata": {},
   "outputs": [
    {
     "data": {
      "text/html": [
       "<div>\n",
       "<style scoped>\n",
       "    .dataframe tbody tr th:only-of-type {\n",
       "        vertical-align: middle;\n",
       "    }\n",
       "\n",
       "    .dataframe tbody tr th {\n",
       "        vertical-align: top;\n",
       "    }\n",
       "\n",
       "    .dataframe thead th {\n",
       "        text-align: right;\n",
       "    }\n",
       "</style>\n",
       "<table border=\"1\" class=\"dataframe\">\n",
       "  <thead>\n",
       "    <tr style=\"text-align: right;\">\n",
       "      <th></th>\n",
       "      <th>month</th>\n",
       "    </tr>\n",
       "  </thead>\n",
       "  <tbody>\n",
       "    <tr>\n",
       "      <th>count</th>\n",
       "      <td>6454.000000</td>\n",
       "    </tr>\n",
       "    <tr>\n",
       "      <th>mean</th>\n",
       "      <td>6.476139</td>\n",
       "    </tr>\n",
       "    <tr>\n",
       "      <th>std</th>\n",
       "      <td>3.441522</td>\n",
       "    </tr>\n",
       "    <tr>\n",
       "      <th>min</th>\n",
       "      <td>1.000000</td>\n",
       "    </tr>\n",
       "    <tr>\n",
       "      <th>25%</th>\n",
       "      <td>3.000000</td>\n",
       "    </tr>\n",
       "    <tr>\n",
       "      <th>50%</th>\n",
       "      <td>6.000000</td>\n",
       "    </tr>\n",
       "    <tr>\n",
       "      <th>75%</th>\n",
       "      <td>9.000000</td>\n",
       "    </tr>\n",
       "    <tr>\n",
       "      <th>max</th>\n",
       "      <td>12.000000</td>\n",
       "    </tr>\n",
       "  </tbody>\n",
       "</table>\n",
       "</div>"
      ],
      "text/plain": [
       "             month\n",
       "count  6454.000000\n",
       "mean      6.476139\n",
       "std       3.441522\n",
       "min       1.000000\n",
       "25%       3.000000\n",
       "50%       6.000000\n",
       "75%       9.000000\n",
       "max      12.000000"
      ]
     },
     "execution_count": 13,
     "metadata": {},
     "output_type": "execute_result"
    }
   ],
   "source": [
    "X_train.shape\n",
    "X_train.describe()"
   ]
  },
  {
   "cell_type": "code",
   "execution_count": 14,
   "metadata": {},
   "outputs": [
    {
     "data": {
      "text/plain": [
       "count    6454.000000\n",
       "mean      108.293163\n",
       "std       190.812242\n",
       "min         0.000000\n",
       "25%         3.000000\n",
       "50%        24.000000\n",
       "75%       113.000000\n",
       "max       998.000000\n",
       "Name: number, dtype: float64"
      ]
     },
     "execution_count": 14,
     "metadata": {},
     "output_type": "execute_result"
    }
   ],
   "source": [
    "y_train.shape\n",
    "y_train.describe()"
   ]
  },
  {
   "cell_type": "code",
   "execution_count": 15,
   "metadata": {},
   "outputs": [
    {
     "data": {
      "text/plain": [
       "array([ 58.60699949,  58.60699949,  58.60699949, ..., 158.41232109,\n",
       "       158.41232109, 158.41232109])"
      ]
     },
     "execution_count": 15,
     "metadata": {},
     "output_type": "execute_result"
    }
   ],
   "source": [
    "model = LinearRegression()\n",
    "model.fit(X=X_train, y=y_train)\n",
    "model.predict(X=X_test)"
   ]
  },
  {
   "cell_type": "code",
   "execution_count": 16,
   "metadata": {},
   "outputs": [
    {
     "data": {
      "text/plain": [
       "array([9.07321106])"
      ]
     },
     "execution_count": 16,
     "metadata": {},
     "output_type": "execute_result"
    }
   ],
   "source": [
    "model.coef_"
   ]
  },
  {
   "cell_type": "code",
   "execution_count": 17,
   "metadata": {},
   "outputs": [
    {
     "data": {
      "text/plain": [
       "49.533788430050954"
      ]
     },
     "execution_count": 17,
     "metadata": {},
     "output_type": "execute_result"
    }
   ],
   "source": [
    "model.intercept_"
   ]
  },
  {
   "cell_type": "markdown",
   "metadata": {},
   "source": [
    "# Build model using validation dataset\n"
   ]
  },
  {
   "cell_type": "code",
   "execution_count": 18,
   "metadata": {},
   "outputs": [
    {
     "data": {
      "text/plain": [
       "<matplotlib.axes._subplots.AxesSubplot at 0x7f5a0241d9e8>"
      ]
     },
     "execution_count": 18,
     "metadata": {},
     "output_type": "execute_result"
    },
    {
     "data": {
      "image/png": "[encoded data removed]",
      "text/plain": [
       "<Figure size 432x288 with 1 Axes>"
      ]
     },
     "metadata": {
      "needs_background": "light"
     },
     "output_type": "display_data"
    }
   ],
   "source": [
    "X_Bra = pd.DataFrame()\n",
    "# create a sequence of 200 evenly spaced numbers from 10 to 41\n",
    "X_Bra[\"year\"] = np.linspace(250, 450, num=200)\n",
    "\n",
    "# create a Series out of the predicted values\n",
    "# (trailing underscore indicates fitted values)\n",
    "y_Bra = pd.Series(\n",
    "    model.predict(X_Bra), # y values in Series.plot.line()\n",
    "    index=X_Bra[\"year\"]    # x values in Series.plot.line()\n",
    ")\n",
    "\n",
    "# plot the data, then the model\n",
    "Bra_train.plot.scatter(x=\"year\", y=\"number\")\n",
    "y_Bra.plot.line()"
   ]
  },
  {
   "cell_type": "code",
   "execution_count": 19,
   "metadata": {},
   "outputs": [
    {
     "data": {
      "text/plain": [
       "array([ 0.04911404, -0.04527086,  0.00883745,  0.05275297, -0.00223575])"
      ]
     },
     "execution_count": 19,
     "metadata": {},
     "output_type": "execute_result"
    }
   ],
   "source": [
    "from sklearn.model_selection import cross_val_score\n",
    "from sklearn.metrics import mean_squared_error\n",
    "from sklearn.preprocessing import StandardScaler\n",
    "from sklearn.linear_model import SGDRegressor\n",
    "from sklearn.pipeline import make_pipeline\n",
    "\n",
    "# pipeline and fit to training set\n",
    "pipeline = make_pipeline(\n",
    "    StandardScaler(),\n",
    "    SGDRegressor()\n",
    ")\n",
    "pipeline.fit(X=X_train, y=y_train)\n",
    "    \n",
    "scores = cross_val_score(pipeline, \n",
    "                         X=X_train,\n",
    "                         y=y_train,\n",
    "                         cv=5)  # cv refers to number of cross-validation cuts\n",
    "scores"
   ]
  },
  {
   "cell_type": "code",
   "execution_count": 23,
   "metadata": {},
   "outputs": [],
   "source": [
    "Y_predict = pipeline.predict(X=X_test)\n",
    "#output = pd.DataFrame(data={\"id\":df_test.index,\"ibu\":Y_predict}) # first need to create df_test \n",
    "output = pd.DataFrame(data={\"id\":FiresInBrazil.index,\"number\":Y_predict}) \n",
    "\n",
    "output.to_csv(path_or_buf=\"results.csv\",index=False,quoting=3,sep=',')"
   ]
  },
  {
   "cell_type": "code",
   "execution_count": null,
   "metadata": {},
   "outputs": [],
   "source": []
  }
 ],
 "metadata": {
  "kernelspec": {
   "display_name": "Python 3",
   "language": "python",
   "name": "python3"
  },
  "language_info": {
   "codemirror_mode": {
    "name": "ipython",
    "version": 3
   },
   "file_extension": ".py",
   "mimetype": "text/x-python",
   "name": "python",
   "nbconvert_exporter": "python",
   "pygments_lexer": "ipython3",
   "version": "3.6.8"
  }
 },
 "nbformat": 4,
 "nbformat_minor": 4
}
