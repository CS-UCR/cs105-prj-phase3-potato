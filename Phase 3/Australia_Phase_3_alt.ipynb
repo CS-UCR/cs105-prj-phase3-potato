{
 "cells": [
  {
   "cell_type": "markdown",
   "metadata": {},
   "source": [
    "# Potato Project Phase 3\n",
    "#### Thi Nguyen, 862051496\n",
    "#### Sydney Pun 862053259\n",
    "#### Heng Tan 862155921"
   ]
  },
  {
   "cell_type": "markdown",
   "metadata": {},
   "source": [
    "## Loading the Datasets:"
   ]
  },
  {
   "cell_type": "markdown",
   "metadata": {},
   "source": [
    "We will first load the Forest Fires in Australia (fire_archive_M6_96619) dataset."
   ]
  },
  {
   "cell_type": "code",
   "execution_count": 1,
   "metadata": {},
   "outputs": [
    {
     "data": {
      "text/html": [
       "<div>\n",
       "<style scoped>\n",
       "    .dataframe tbody tr th:only-of-type {\n",
       "        vertical-align: middle;\n",
       "    }\n",
       "\n",
       "    .dataframe tbody tr th {\n",
       "        vertical-align: top;\n",
       "    }\n",
       "\n",
       "    .dataframe thead th {\n",
       "        text-align: right;\n",
       "    }\n",
       "</style>\n",
       "<table border=\"1\" class=\"dataframe\">\n",
       "  <thead>\n",
       "    <tr style=\"text-align: right;\">\n",
       "      <th></th>\n",
       "      <th>latitude</th>\n",
       "      <th>longitude</th>\n",
       "      <th>brightness</th>\n",
       "      <th>scan</th>\n",
       "      <th>track</th>\n",
       "      <th>acq_date</th>\n",
       "      <th>acq_time</th>\n",
       "      <th>satellite</th>\n",
       "      <th>instrument</th>\n",
       "      <th>confidence</th>\n",
       "      <th>version</th>\n",
       "      <th>bright_t31</th>\n",
       "      <th>frp</th>\n",
       "      <th>daynight</th>\n",
       "      <th>type</th>\n",
       "    </tr>\n",
       "  </thead>\n",
       "  <tbody>\n",
       "    <tr>\n",
       "      <th>0</th>\n",
       "      <td>-11.8070</td>\n",
       "      <td>142.0583</td>\n",
       "      <td>313.0</td>\n",
       "      <td>1.0</td>\n",
       "      <td>1.0</td>\n",
       "      <td>2019-08-01</td>\n",
       "      <td>56</td>\n",
       "      <td>Terra</td>\n",
       "      <td>MODIS</td>\n",
       "      <td>48</td>\n",
       "      <td>6.3</td>\n",
       "      <td>297.3</td>\n",
       "      <td>6.6</td>\n",
       "      <td>D</td>\n",
       "      <td>0</td>\n",
       "    </tr>\n",
       "    <tr>\n",
       "      <th>1</th>\n",
       "      <td>-11.7924</td>\n",
       "      <td>142.0850</td>\n",
       "      <td>319.3</td>\n",
       "      <td>1.0</td>\n",
       "      <td>1.0</td>\n",
       "      <td>2019-08-01</td>\n",
       "      <td>56</td>\n",
       "      <td>Terra</td>\n",
       "      <td>MODIS</td>\n",
       "      <td>71</td>\n",
       "      <td>6.3</td>\n",
       "      <td>297.3</td>\n",
       "      <td>11.3</td>\n",
       "      <td>D</td>\n",
       "      <td>0</td>\n",
       "    </tr>\n",
       "    <tr>\n",
       "      <th>2</th>\n",
       "      <td>-12.8398</td>\n",
       "      <td>132.8744</td>\n",
       "      <td>311.6</td>\n",
       "      <td>3.1</td>\n",
       "      <td>1.7</td>\n",
       "      <td>2019-08-01</td>\n",
       "      <td>57</td>\n",
       "      <td>Terra</td>\n",
       "      <td>MODIS</td>\n",
       "      <td>42</td>\n",
       "      <td>6.3</td>\n",
       "      <td>298.7</td>\n",
       "      <td>23.1</td>\n",
       "      <td>D</td>\n",
       "      <td>0</td>\n",
       "    </tr>\n",
       "    <tr>\n",
       "      <th>3</th>\n",
       "      <td>-14.4306</td>\n",
       "      <td>143.3035</td>\n",
       "      <td>310.1</td>\n",
       "      <td>1.1</td>\n",
       "      <td>1.1</td>\n",
       "      <td>2019-08-01</td>\n",
       "      <td>57</td>\n",
       "      <td>Terra</td>\n",
       "      <td>MODIS</td>\n",
       "      <td>33</td>\n",
       "      <td>6.3</td>\n",
       "      <td>296.1</td>\n",
       "      <td>6.5</td>\n",
       "      <td>D</td>\n",
       "      <td>0</td>\n",
       "    </tr>\n",
       "    <tr>\n",
       "      <th>4</th>\n",
       "      <td>-12.4953</td>\n",
       "      <td>131.4897</td>\n",
       "      <td>310.3</td>\n",
       "      <td>4.0</td>\n",
       "      <td>1.9</td>\n",
       "      <td>2019-08-01</td>\n",
       "      <td>57</td>\n",
       "      <td>Terra</td>\n",
       "      <td>MODIS</td>\n",
       "      <td>36</td>\n",
       "      <td>6.3</td>\n",
       "      <td>298.8</td>\n",
       "      <td>27.6</td>\n",
       "      <td>D</td>\n",
       "      <td>0</td>\n",
       "    </tr>\n",
       "  </tbody>\n",
       "</table>\n",
       "</div>"
      ],
      "text/plain": [
       "   latitude  longitude  brightness  scan  track    acq_date  acq_time  \\\n",
       "0  -11.8070   142.0583       313.0   1.0    1.0  2019-08-01        56   \n",
       "1  -11.7924   142.0850       319.3   1.0    1.0  2019-08-01        56   \n",
       "2  -12.8398   132.8744       311.6   3.1    1.7  2019-08-01        57   \n",
       "3  -14.4306   143.3035       310.1   1.1    1.1  2019-08-01        57   \n",
       "4  -12.4953   131.4897       310.3   4.0    1.9  2019-08-01        57   \n",
       "\n",
       "  satellite instrument  confidence  version  bright_t31   frp daynight  type  \n",
       "0     Terra      MODIS          48      6.3       297.3   6.6        D     0  \n",
       "1     Terra      MODIS          71      6.3       297.3  11.3        D     0  \n",
       "2     Terra      MODIS          42      6.3       298.7  23.1        D     0  \n",
       "3     Terra      MODIS          33      6.3       296.1   6.5        D     0  \n",
       "4     Terra      MODIS          36      6.3       298.8  27.6        D     0  "
      ]
     },
     "execution_count": 1,
     "metadata": {},
     "output_type": "execute_result"
    }
   ],
   "source": [
    "import pandas as pd\n",
    "import numpy as np\n",
    "#import nbimporter\n",
    "#import Australian_Dataset_Analysis.ipynb\n",
    "\n",
    "# %run Australian_Dataset_Analysis.ipynb\n",
    "\n",
    "Aus_Fires_df = pd.read_csv('Australian_Wildfires.csv')\n",
    "Aus_Fires_df.head()"
   ]
  },
  {
   "cell_type": "code",
   "execution_count": 2,
   "metadata": {},
   "outputs": [
    {
     "data": {
      "text/html": [
       "<div>\n",
       "<style scoped>\n",
       "    .dataframe tbody tr th:only-of-type {\n",
       "        vertical-align: middle;\n",
       "    }\n",
       "\n",
       "    .dataframe tbody tr th {\n",
       "        vertical-align: top;\n",
       "    }\n",
       "\n",
       "    .dataframe thead th {\n",
       "        text-align: right;\n",
       "    }\n",
       "</style>\n",
       "<table border=\"1\" class=\"dataframe\">\n",
       "  <thead>\n",
       "    <tr style=\"text-align: right;\">\n",
       "      <th></th>\n",
       "      <th>latitude</th>\n",
       "      <th>longitude</th>\n",
       "      <th>brightness</th>\n",
       "      <th>scan</th>\n",
       "      <th>track</th>\n",
       "      <th>acq_time</th>\n",
       "      <th>confidence</th>\n",
       "      <th>version</th>\n",
       "      <th>bright_t31</th>\n",
       "      <th>frp</th>\n",
       "      <th>type</th>\n",
       "    </tr>\n",
       "  </thead>\n",
       "  <tbody>\n",
       "    <tr>\n",
       "      <th>count</th>\n",
       "      <td>36011.000000</td>\n",
       "      <td>36011.000000</td>\n",
       "      <td>36011.000000</td>\n",
       "      <td>36011.000000</td>\n",
       "      <td>36011.000000</td>\n",
       "      <td>36011.000000</td>\n",
       "      <td>36011.000000</td>\n",
       "      <td>3.601100e+04</td>\n",
       "      <td>36011.000000</td>\n",
       "      <td>36011.000000</td>\n",
       "      <td>36011.000000</td>\n",
       "    </tr>\n",
       "    <tr>\n",
       "      <th>mean</th>\n",
       "      <td>-19.100962</td>\n",
       "      <td>138.931446</td>\n",
       "      <td>328.750696</td>\n",
       "      <td>1.620905</td>\n",
       "      <td>1.215281</td>\n",
       "      <td>600.025798</td>\n",
       "      <td>67.551387</td>\n",
       "      <td>6.300000e+00</td>\n",
       "      <td>301.339138</td>\n",
       "      <td>51.132176</td>\n",
       "      <td>0.019439</td>\n",
       "    </tr>\n",
       "    <tr>\n",
       "      <th>std</th>\n",
       "      <td>7.265777</td>\n",
       "      <td>9.261400</td>\n",
       "      <td>18.992808</td>\n",
       "      <td>0.813764</td>\n",
       "      <td>0.247852</td>\n",
       "      <td>548.369111</td>\n",
       "      <td>23.179946</td>\n",
       "      <td>1.776382e-15</td>\n",
       "      <td>9.724462</td>\n",
       "      <td>92.280112</td>\n",
       "      <td>0.198326</td>\n",
       "    </tr>\n",
       "    <tr>\n",
       "      <th>min</th>\n",
       "      <td>-42.762800</td>\n",
       "      <td>114.104300</td>\n",
       "      <td>300.000000</td>\n",
       "      <td>1.000000</td>\n",
       "      <td>1.000000</td>\n",
       "      <td>0.000000</td>\n",
       "      <td>0.000000</td>\n",
       "      <td>6.300000e+00</td>\n",
       "      <td>267.000000</td>\n",
       "      <td>0.000000</td>\n",
       "      <td>0.000000</td>\n",
       "    </tr>\n",
       "    <tr>\n",
       "      <th>25%</th>\n",
       "      <td>-26.370250</td>\n",
       "      <td>131.072250</td>\n",
       "      <td>316.500000</td>\n",
       "      <td>1.100000</td>\n",
       "      <td>1.000000</td>\n",
       "      <td>205.000000</td>\n",
       "      <td>52.000000</td>\n",
       "      <td>6.300000e+00</td>\n",
       "      <td>293.600000</td>\n",
       "      <td>13.800000</td>\n",
       "      <td>0.000000</td>\n",
       "    </tr>\n",
       "    <tr>\n",
       "      <th>50%</th>\n",
       "      <td>-15.706500</td>\n",
       "      <td>136.738500</td>\n",
       "      <td>326.400000</td>\n",
       "      <td>1.300000</td>\n",
       "      <td>1.100000</td>\n",
       "      <td>424.000000</td>\n",
       "      <td>70.000000</td>\n",
       "      <td>6.300000e+00</td>\n",
       "      <td>302.400000</td>\n",
       "      <td>25.800000</td>\n",
       "      <td>0.000000</td>\n",
       "    </tr>\n",
       "    <tr>\n",
       "      <th>75%</th>\n",
       "      <td>-13.343600</td>\n",
       "      <td>147.477500</td>\n",
       "      <td>336.700000</td>\n",
       "      <td>1.900000</td>\n",
       "      <td>1.300000</td>\n",
       "      <td>600.000000</td>\n",
       "      <td>86.000000</td>\n",
       "      <td>6.300000e+00</td>\n",
       "      <td>308.600000</td>\n",
       "      <td>52.800000</td>\n",
       "      <td>0.000000</td>\n",
       "    </tr>\n",
       "    <tr>\n",
       "      <th>max</th>\n",
       "      <td>-10.072600</td>\n",
       "      <td>153.490400</td>\n",
       "      <td>504.400000</td>\n",
       "      <td>4.800000</td>\n",
       "      <td>2.000000</td>\n",
       "      <td>2359.000000</td>\n",
       "      <td>100.000000</td>\n",
       "      <td>6.300000e+00</td>\n",
       "      <td>400.100000</td>\n",
       "      <td>3679.500000</td>\n",
       "      <td>3.000000</td>\n",
       "    </tr>\n",
       "  </tbody>\n",
       "</table>\n",
       "</div>"
      ],
      "text/plain": [
       "           latitude     longitude    brightness          scan         track  \\\n",
       "count  36011.000000  36011.000000  36011.000000  36011.000000  36011.000000   \n",
       "mean     -19.100962    138.931446    328.750696      1.620905      1.215281   \n",
       "std        7.265777      9.261400     18.992808      0.813764      0.247852   \n",
       "min      -42.762800    114.104300    300.000000      1.000000      1.000000   \n",
       "25%      -26.370250    131.072250    316.500000      1.100000      1.000000   \n",
       "50%      -15.706500    136.738500    326.400000      1.300000      1.100000   \n",
       "75%      -13.343600    147.477500    336.700000      1.900000      1.300000   \n",
       "max      -10.072600    153.490400    504.400000      4.800000      2.000000   \n",
       "\n",
       "           acq_time    confidence       version    bright_t31           frp  \\\n",
       "count  36011.000000  36011.000000  3.601100e+04  36011.000000  36011.000000   \n",
       "mean     600.025798     67.551387  6.300000e+00    301.339138     51.132176   \n",
       "std      548.369111     23.179946  1.776382e-15      9.724462     92.280112   \n",
       "min        0.000000      0.000000  6.300000e+00    267.000000      0.000000   \n",
       "25%      205.000000     52.000000  6.300000e+00    293.600000     13.800000   \n",
       "50%      424.000000     70.000000  6.300000e+00    302.400000     25.800000   \n",
       "75%      600.000000     86.000000  6.300000e+00    308.600000     52.800000   \n",
       "max     2359.000000    100.000000  6.300000e+00    400.100000   3679.500000   \n",
       "\n",
       "               type  \n",
       "count  36011.000000  \n",
       "mean       0.019439  \n",
       "std        0.198326  \n",
       "min        0.000000  \n",
       "25%        0.000000  \n",
       "50%        0.000000  \n",
       "75%        0.000000  \n",
       "max        3.000000  "
      ]
     },
     "execution_count": 2,
     "metadata": {},
     "output_type": "execute_result"
    }
   ],
   "source": [
    "Aus_Fires_df.describe()"
   ]
  },
  {
   "cell_type": "markdown",
   "metadata": {},
   "source": [
    "## Setting Up the Model"
   ]
  },
  {
   "cell_type": "code",
   "execution_count": 3,
   "metadata": {},
   "outputs": [
    {
     "data": {
      "text/plain": [
       "907    2275\n",
       "910    2206\n",
       "913    1874\n",
       "909    1230\n",
       "906    1200\n",
       "916    1111\n",
       "904    1053\n",
       "928    1045\n",
       "811     988\n",
       "912     940\n",
       "901     935\n",
       "915     932\n",
       "812     869\n",
       "802     810\n",
       "820     797\n",
       "919     788\n",
       "813     785\n",
       "922     683\n",
       "930     669\n",
       "814     641\n",
       "925     638\n",
       "821     636\n",
       "903     614\n",
       "822     610\n",
       "810     608\n",
       "829     575\n",
       "809     554\n",
       "828     546\n",
       "806     538\n",
       "804     528\n",
       "819     508\n",
       "816     491\n",
       "823     484\n",
       "807     476\n",
       "830     474\n",
       "927     455\n",
       "924     454\n",
       "803     425\n",
       "827     421\n",
       "801     418\n",
       "918     414\n",
       "805     396\n",
       "815     389\n",
       "818     375\n",
       "824     346\n",
       "831     344\n",
       "826     325\n",
       "825     306\n",
       "817     300\n",
       "808     291\n",
       "921     241\n",
       "Name: acq_date, dtype: int64"
      ]
     },
     "execution_count": 3,
     "metadata": {},
     "output_type": "execute_result"
    }
   ],
   "source": [
    "acq_date_categories = { '2019-08-01':'801',   '2019-08-02':'802',   '2019-08-03':'803',\n",
    "                        '2019-08-04':'804',   '2019-08-05':'805',   '2019-08-06':'806',\n",
    "                        '2019-08-07':'807',   '2019-08-08':'808',   '2019-08-09':'809',\n",
    "                        '2019-08-10':'810',   '2019-08-11':'811',   '2019-08-12':'812',\n",
    "                        '2019-08-13':'813',   '2019-08-14':'814',   '2019-08-15':'815',\n",
    "                       \n",
    "                        '2019-08-16':'816',  '2019-08-17':'817',  '2019-08-18':'818',\n",
    "                        '2019-08-19':'819',  '2019-08-20':'820',  '2019-08-21':'821',\n",
    "                        '2019-08-22':'822',  '2019-08-23':'823',  '2019-08-24':'824',\n",
    "                        '2019-08-25':'825',  '2019-08-26':'826',  '2019-08-27':'827',\n",
    "                        '2019-08-28':'828',  '2019-08-29':'829',  '2019-08-30':'830',\n",
    "                        '2019-08-31':'831',\n",
    "                       \n",
    "                        '2019-09-01':'901',  '2019-09-02':'901',  '2019-09-03':'903',\n",
    "                        '2019-09-04':'904',  '2019-09-05':'904',  '2019-09-06':'906',\n",
    "                        '2019-09-07':'907',  '2019-09-08':'907',  '2019-09-09':'909',\n",
    "                        '2019-09-10':'910',  '2019-09-11':'910',  '2019-09-12':'912',\n",
    "                        '2019-09-13':'913',  '2019-09-14':'913',  '2019-09-15':'915',\n",
    "                       \n",
    "                        '2019-09-16':'916', '2019-09-17':'916', '2019-09-18':'918',\n",
    "                        '2019-09-19':'919', '2019-09-20':'919', '2019-09-21':'921',\n",
    "                        '2019-09-22':'922', '2019-09-23':'922', '2019-09-24':'924',\n",
    "                        '2019-09-25':'925', '2019-09-26':'925', '2019-09-27':'927',\n",
    "                        '2019-09-28':'928', '2019-09-29':'928', '2019-09-30':'930' }\n",
    "\n",
    "Aus_Fires_df['acq_date'] = [acq_date_categories[x] for x in Aus_Fires_df['acq_date']]\n",
    "Aus_Fires_df['acq_date'] = pd.to_numeric(Aus_Fires_df['acq_date'])\n",
    "Aus_Fires_df['acq_date'].value_counts()"
   ]
  },
  {
   "cell_type": "code",
   "execution_count": 4,
   "metadata": {},
   "outputs": [
    {
     "data": {
      "text/plain": [
       "907    2275\n",
       "910    2206\n",
       "913    1874\n",
       "909    1230\n",
       "906    1200\n",
       "916    1111\n",
       "904    1053\n",
       "928    1045\n",
       "811     988\n",
       "912     940\n",
       "901     935\n",
       "915     932\n",
       "812     869\n",
       "802     810\n",
       "820     797\n",
       "919     788\n",
       "813     785\n",
       "922     683\n",
       "930     669\n",
       "814     641\n",
       "925     638\n",
       "821     636\n",
       "903     614\n",
       "822     610\n",
       "810     608\n",
       "829     575\n",
       "809     554\n",
       "828     546\n",
       "806     538\n",
       "804     528\n",
       "819     508\n",
       "816     491\n",
       "823     484\n",
       "807     476\n",
       "830     474\n",
       "927     455\n",
       "924     454\n",
       "803     425\n",
       "827     421\n",
       "801     418\n",
       "918     414\n",
       "805     396\n",
       "815     389\n",
       "818     375\n",
       "824     346\n",
       "831     344\n",
       "826     325\n",
       "825     306\n",
       "817     300\n",
       "808     291\n",
       "921     241\n",
       "Name: acq_date, dtype: int64"
      ]
     },
     "execution_count": 4,
     "metadata": {},
     "output_type": "execute_result"
    }
   ],
   "source": [
    "Aus_Fires_df.acq_date = Aus_Fires_df.acq_date.replace('2019-08-01', '801')\n",
    "Aus_Fires_df.acq_date = Aus_Fires_df.acq_date.replace('2019-08-02', '802')\n",
    "Aus_Fires_df.acq_date = Aus_Fires_df.acq_date.replace('2019-08-03', '803')\n",
    "Aus_Fires_df.acq_date = Aus_Fires_df.acq_date.replace('2019-08-04', '804')\n",
    "Aus_Fires_df.acq_date = Aus_Fires_df.acq_date.replace('2019-08-05', '805')\n",
    "Aus_Fires_df.acq_date = Aus_Fires_df.acq_date.replace('2019-08-06', '806')\n",
    "Aus_Fires_df.acq_date = Aus_Fires_df.acq_date.replace('2019-08-07', '807')\n",
    "Aus_Fires_df.acq_date = Aus_Fires_df.acq_date.replace('2019-08-08', '808')\n",
    "Aus_Fires_df.acq_date = Aus_Fires_df.acq_date.replace('2019-08-09', '809')\n",
    "Aus_Fires_df.acq_date = Aus_Fires_df.acq_date.replace('2019-08-10', '810')\n",
    "Aus_Fires_df.acq_date = Aus_Fires_df.acq_date.replace('2019-08-11', '811')\n",
    "Aus_Fires_df.acq_date = Aus_Fires_df.acq_date.replace('2019-08-12', '812')\n",
    "Aus_Fires_df.acq_date = Aus_Fires_df.acq_date.replace('2019-08-13', '813')\n",
    "Aus_Fires_df.acq_date = Aus_Fires_df.acq_date.replace('2019-08-14', '814')\n",
    "Aus_Fires_df.acq_date = Aus_Fires_df.acq_date.replace('2019-08-15', '815')\n",
    "Aus_Fires_df.acq_date = Aus_Fires_df.acq_date.replace('2019-08-16', '816')\n",
    "Aus_Fires_df.acq_date = Aus_Fires_df.acq_date.replace('2019-08-17', '817')\n",
    "Aus_Fires_df.acq_date = Aus_Fires_df.acq_date.replace('2019-08-18', '818')\n",
    "Aus_Fires_df.acq_date = Aus_Fires_df.acq_date.replace('2019-08-19', '819')\n",
    "Aus_Fires_df.acq_date = Aus_Fires_df.acq_date.replace('2019-08-20', '820')\n",
    "Aus_Fires_df.acq_date = Aus_Fires_df.acq_date.replace('2019-08-21', '821')\n",
    "Aus_Fires_df.acq_date = Aus_Fires_df.acq_date.replace('2019-08-22', '822')\n",
    "Aus_Fires_df.acq_date = Aus_Fires_df.acq_date.replace('2019-08-23', '823')\n",
    "Aus_Fires_df.acq_date = Aus_Fires_df.acq_date.replace('2019-08-24', '824')\n",
    "Aus_Fires_df.acq_date = Aus_Fires_df.acq_date.replace('2019-08-25', '825')\n",
    "Aus_Fires_df.acq_date = Aus_Fires_df.acq_date.replace('2019-08-26', '826')\n",
    "Aus_Fires_df.acq_date = Aus_Fires_df.acq_date.replace('2019-08-27', '827')\n",
    "Aus_Fires_df.acq_date = Aus_Fires_df.acq_date.replace('2019-08-28', '828')\n",
    "Aus_Fires_df.acq_date = Aus_Fires_df.acq_date.replace('2019-08-29', '829')\n",
    "Aus_Fires_df.acq_date = Aus_Fires_df.acq_date.replace('2019-08-30', '830')\n",
    "Aus_Fires_df.acq_date = Aus_Fires_df.acq_date.replace('2019-08-31', '831')\n",
    "\n",
    "Aus_Fires_df.acq_date = Aus_Fires_df.acq_date.replace('2019-09-01', '901')\n",
    "Aus_Fires_df.acq_date = Aus_Fires_df.acq_date.replace('2019-09-02', '902')\n",
    "Aus_Fires_df.acq_date = Aus_Fires_df.acq_date.replace('2019-09-03', '903')\n",
    "Aus_Fires_df.acq_date = Aus_Fires_df.acq_date.replace('2019-09-04', '904')\n",
    "Aus_Fires_df.acq_date = Aus_Fires_df.acq_date.replace('2019-09-05', '905')\n",
    "Aus_Fires_df.acq_date = Aus_Fires_df.acq_date.replace('2019-09-06', '906')\n",
    "Aus_Fires_df.acq_date = Aus_Fires_df.acq_date.replace('2019-09-07', '907')\n",
    "Aus_Fires_df.acq_date = Aus_Fires_df.acq_date.replace('2019-09-08', '908')\n",
    "Aus_Fires_df.acq_date = Aus_Fires_df.acq_date.replace('2019-09-09', '909')\n",
    "Aus_Fires_df.acq_date = Aus_Fires_df.acq_date.replace('2019-09-10', '910')\n",
    "Aus_Fires_df.acq_date = Aus_Fires_df.acq_date.replace('2019-09-11', '911')\n",
    "Aus_Fires_df.acq_date = Aus_Fires_df.acq_date.replace('2019-09-12', '912')\n",
    "Aus_Fires_df.acq_date = Aus_Fires_df.acq_date.replace('2019-09-13', '913')\n",
    "Aus_Fires_df.acq_date = Aus_Fires_df.acq_date.replace('2019-09-14', '914')\n",
    "Aus_Fires_df.acq_date = Aus_Fires_df.acq_date.replace('2019-09-15', '915')\n",
    "Aus_Fires_df.acq_date = Aus_Fires_df.acq_date.replace('2019-09-16', '916')\n",
    "Aus_Fires_df.acq_date = Aus_Fires_df.acq_date.replace('2019-09-17', '917')\n",
    "Aus_Fires_df.acq_date = Aus_Fires_df.acq_date.replace('2019-09-18', '918')\n",
    "Aus_Fires_df.acq_date = Aus_Fires_df.acq_date.replace('2019-09-19', '919')\n",
    "Aus_Fires_df.acq_date = Aus_Fires_df.acq_date.replace('2019-09-20', '920')\n",
    "Aus_Fires_df.acq_date = Aus_Fires_df.acq_date.replace('2019-09-21', '921')\n",
    "Aus_Fires_df.acq_date = Aus_Fires_df.acq_date.replace('2019-09-22', '922')\n",
    "Aus_Fires_df.acq_date = Aus_Fires_df.acq_date.replace('2019-09-23', '923')\n",
    "Aus_Fires_df.acq_date = Aus_Fires_df.acq_date.replace('2019-09-24', '924')\n",
    "Aus_Fires_df.acq_date = Aus_Fires_df.acq_date.replace('2019-09-25', '925')\n",
    "Aus_Fires_df.acq_date = Aus_Fires_df.acq_date.replace('2019-09-26', '926')\n",
    "Aus_Fires_df.acq_date = Aus_Fires_df.acq_date.replace('2019-09-27', '927')\n",
    "Aus_Fires_df.acq_date = Aus_Fires_df.acq_date.replace('2019-09-28', '928')\n",
    "Aus_Fires_df.acq_date = Aus_Fires_df.acq_date.replace('2019-09-29', '929')\n",
    "Aus_Fires_df.acq_date = Aus_Fires_df.acq_date.replace('2019-09-30', '930')\n",
    "\n",
    "Aus_Fires_df.acq_date.value_counts()"
   ]
  },
  {
   "cell_type": "code",
   "execution_count": 5,
   "metadata": {},
   "outputs": [
    {
     "data": {
      "text/plain": [
       "<matplotlib.axes._subplots.AxesSubplot at 0x7fa419ac8dd8>"
      ]
     },
     "execution_count": 5,
     "metadata": {},
     "output_type": "execute_result"
    },
    {
     "data": {
      "image/png": "[encoded data removed]",
      "text/plain": [
       "<Figure size 432x288 with 1 Axes>"
      ]
     },
     "metadata": {
      "needs_background": "light"
     },
     "output_type": "display_data"
    }
   ],
   "source": [
    "from sklearn.linear_model import LinearRegression\n",
    "\n",
    "Aus_train = Aus_Fires_df.loc[:].copy()\n",
    "Aus_test  = Aus_Fires_df.loc[:].copy()\n",
    "\n",
    "X_train = Aus_train[[\"acq_date\"]]\n",
    "X_test  = Aus_test[[\"acq_date\"]]\n",
    "y_train = Aus_train[\"brightness\"]\n",
    "\n",
    "Aus_train.plot.scatter(x=\"acq_date\", y=\"brightness\")"
   ]
  },
  {
   "cell_type": "code",
   "execution_count": 16,
   "metadata": {},
   "outputs": [
    {
     "data": {
      "text/plain": [
       "count    36011.000000\n",
       "mean       328.750696\n",
       "std         18.992808\n",
       "min        300.000000\n",
       "25%        316.500000\n",
       "50%        326.400000\n",
       "75%        336.700000\n",
       "max        504.400000\n",
       "Name: brightness, dtype: float64"
      ]
     },
     "execution_count": 16,
     "metadata": {},
     "output_type": "execute_result"
    }
   ],
   "source": [
    "y_train.shape\n",
    "y_train.describe()"
   ]
  },
  {
   "cell_type": "code",
   "execution_count": 17,
   "metadata": {},
   "outputs": [
    {
     "data": {
      "text/plain": [
       "array([324.46419854, 324.46419854, 324.46419854, ..., 332.58914039,\n",
       "       332.58914039, 332.58914039])"
      ]
     },
     "execution_count": 17,
     "metadata": {},
     "output_type": "execute_result"
    }
   ],
   "source": [
    "model = LinearRegression()\n",
    "model.fit(X=X_train, y=y_train)\n",
    "model.predict(X=X_test)"
   ]
  },
  {
   "cell_type": "code",
   "execution_count": 18,
   "metadata": {},
   "outputs": [
    {
     "data": {
      "text/plain": [
       "array([0.06298405])"
      ]
     },
     "execution_count": 18,
     "metadata": {},
     "output_type": "execute_result"
    }
   ],
   "source": [
    "model.coef_"
   ]
  },
  {
   "cell_type": "code",
   "execution_count": 19,
   "metadata": {},
   "outputs": [
    {
     "data": {
      "text/plain": [
       "274.01397818810085"
      ]
     },
     "execution_count": 19,
     "metadata": {},
     "output_type": "execute_result"
    }
   ],
   "source": [
    "model.intercept_"
   ]
  },
  {
   "cell_type": "markdown",
   "metadata": {},
   "source": [
    "## Fitting Linear Regression Model"
   ]
  },
  {
   "cell_type": "code",
   "execution_count": 25,
   "metadata": {},
   "outputs": [
    {
     "data": {
      "text/plain": [
       "<matplotlib.axes._subplots.AxesSubplot at 0x7fa419214ac8>"
      ]
     },
     "execution_count": 25,
     "metadata": {},
     "output_type": "execute_result"
    },
    {
     "data": {
      "image/png": "[encoded data removed]",
      "text/plain": [
       "<Figure size 432x288 with 1 Axes>"
      ]
     },
     "metadata": {
      "needs_background": "light"
     },
     "output_type": "display_data"
    }
   ],
   "source": [
    "X_Aus = pd.DataFrame()\n",
    "# create a sequence of 200 evenly spaced numbers from 10 to 41\n",
    "X_Aus[\"acq_date\"] = np.linspace(790, 950, num=200)\n",
    "\n",
    "# create a Series out of the predicted values\n",
    "# (trailing underscore indicates fitted values)\n",
    "y_Aus = pd.Series(\n",
    "    model.predict(X_Aus), # y values in Series.plot.line()\n",
    "    index=X_Aus[\"acq_date\"]    # x values in Series.plot.line()\n",
    ")\n",
    "\n",
    "# plot the data, then the model\n",
    "Aus_train.plot.scatter(x=\"acq_date\", y=\"brightness\")\n",
    "y_Aus.plot.line()"
   ]
  },
  {
   "cell_type": "markdown",
   "metadata": {},
   "source": [
    "## Building Model Using Validation Set:"
   ]
  },
  {
   "cell_type": "code",
   "execution_count": 21,
   "metadata": {},
   "outputs": [
    {
     "data": {
      "text/plain": [
       "array([-1.24116380e-03,  1.10495738e-03, -1.24851635e-02, -1.24080306e-04,\n",
       "       -2.49290376e-05])"
      ]
     },
     "execution_count": 21,
     "metadata": {},
     "output_type": "execute_result"
    }
   ],
   "source": [
    "from sklearn.model_selection import cross_val_score\n",
    "from sklearn.metrics import mean_squared_error\n",
    "from sklearn.preprocessing import StandardScaler\n",
    "from sklearn.linear_model import SGDRegressor\n",
    "from sklearn.pipeline import make_pipeline\n",
    "\n",
    "# pipeline and fit to training set\n",
    "pipeline = make_pipeline(\n",
    "    StandardScaler(),\n",
    "    SGDRegressor()\n",
    ")\n",
    "pipeline.fit(X=X_train, y=y_train)\n",
    "    \n",
    "scores = cross_val_score(pipeline, \n",
    "                         X=X_train,\n",
    "                         y=y_train,\n",
    "                         cv=5)  # cv refers to number of cross-validation cuts\n",
    "scores"
   ]
  },
  {
   "cell_type": "code",
   "execution_count": 13,
   "metadata": {},
   "outputs": [],
   "source": [
    "Y_predict = pipeline.predict(X=X_test)\n",
    "#output = pd.DataFrame(data={\"id\":df_test.index,\"ibu\":Y_predict}) # first need to create df_test \n",
    "output = pd.DataFrame(data={\"id\":Aus_Fires_df.index,\"frp\":Y_predict}) \n",
    "\n",
    "output.to_csv(path_or_buf=\"Aus_results.csv\",index=False,quoting=3,sep=',')"
   ]
  },
  {
   "cell_type": "code",
   "execution_count": null,
   "metadata": {},
   "outputs": [],
   "source": []
  }
 ],
 "metadata": {
  "kernelspec": {
   "display_name": "Python 3",
   "language": "python",
   "name": "python3"
  },
  "language_info": {
   "codemirror_mode": {
    "name": "ipython",
    "version": 3
   },
   "file_extension": ".py",
   "mimetype": "text/x-python",
   "name": "python",
   "nbconvert_exporter": "python",
   "pygments_lexer": "ipython3",
   "version": "3.6.8"
  }
 },
 "nbformat": 4,
 "nbformat_minor": 4
}
